{
  "nbformat": 4,
  "nbformat_minor": 0,
  "metadata": {
    "colab": {
      "name": "Lab3-Implementing-CNN-for-Classification-Using-Tensorflow-Keras.ipynb",
      "provenance": []
    },
    "kernelspec": {
      "name": "python3",
      "display_name": "Python 3"
    },
    "language_info": {
      "name": "python"
    }
  },
  "cells": [
    {
      "cell_type": "markdown",
      "source": [
        "# **Download the Fashion MNIST Data**"
      ],
      "metadata": {
        "id": "uj-dA78PH3Bd"
      }
    },
    {
      "cell_type": "code",
      "source": [
        "import tensorflow as tf\n",
        "import numpy as np\n",
        "import matplotlib.pyplot as plt\n",
        "\n",
        "#Load the fashion mnist dataset both training and testing data\n",
        "(x_train, y_train), (x_test, y_test) = tf.keras.datasets.fashion_mnist.load_data()\n",
        "\n",
        "print(\"x_train shape: \", x_train.shape, \" y_train shape: \", y_train.shape)\n"
      ],
      "metadata": {
        "colab": {
          "base_uri": "https://localhost:8080/"
        },
        "id": "8LjW-dKcIBGM",
        "outputId": "29ec5973-561a-4531-befa-16d9969be5d3"
      },
      "execution_count": 2,
      "outputs": [
        {
          "output_type": "stream",
          "name": "stdout",
          "text": [
            "Downloading data from https://storage.googleapis.com/tensorflow/tf-keras-datasets/train-labels-idx1-ubyte.gz\n",
            "32768/29515 [=================================] - 0s 0us/step\n",
            "40960/29515 [=========================================] - 0s 0us/step\n",
            "Downloading data from https://storage.googleapis.com/tensorflow/tf-keras-datasets/train-images-idx3-ubyte.gz\n",
            "26427392/26421880 [==============================] - 0s 0us/step\n",
            "26435584/26421880 [==============================] - 0s 0us/step\n",
            "Downloading data from https://storage.googleapis.com/tensorflow/tf-keras-datasets/t10k-labels-idx1-ubyte.gz\n",
            "16384/5148 [===============================================================================================] - 0s 0us/step\n",
            "Downloading data from https://storage.googleapis.com/tensorflow/tf-keras-datasets/t10k-images-idx3-ubyte.gz\n",
            "4423680/4422102 [==============================] - 0s 0us/step\n",
            "4431872/4422102 [==============================] - 0s 0us/step\n",
            "x_train shape:  (60000, 28, 28)  y_train shape:  (60000,)\n"
          ]
        }
      ]
    },
    {
      "cell_type": "code",
      "source": [
        "print(\"x_train shape: \", x_train.shape, \" y_train shape: \", y_train.shape)\n",
        "print(\"x_test shape: \", x_test.shape, \" y_test shape: \", y_test.shape)"
      ],
      "metadata": {
        "colab": {
          "base_uri": "https://localhost:8080/"
        },
        "id": "lr04Dn83JDqq",
        "outputId": "4d4cd90a-0f54-4214-b408-55514568f9e3"
      },
      "execution_count": 3,
      "outputs": [
        {
          "output_type": "stream",
          "name": "stdout",
          "text": [
            "x_train shape:  (60000, 28, 28)  y_train shape:  (60000,)\n",
            "x_test shape:  (10000, 28, 28)  y_test shape:  (10000,)\n"
          ]
        }
      ]
    },
    {
      "cell_type": "code",
      "execution_count": 4,
      "metadata": {
        "id": "ICxUA8o_Hjyd"
      },
      "outputs": [],
      "source": [
        "# Define the text labels\n",
        "fashion_mnist_labels = [\"T-shirt/top\",  # label 0\n",
        "                        \"Trouser\",      # label 1\n",
        "                        \"Pullover\",     # label 2 \n",
        "                        \"Dress\",        # label 3 \n",
        "                        \"Coat\",         # label 4\n",
        "                        \"Sandal\",       # label 5\n",
        "                        \"Shirt\",        # label 6 \n",
        "                        \"Sneaker\",      # label 7 \n",
        "                        \"Bag\",          # label 8 \n",
        "                        \"Ankle boot\"]   # label 9\n"
      ]
    },
    {
      "cell_type": "code",
      "source": [
        "# Image index, you can pick any number between 0 and 59,999\n",
        "i = 5\n",
        "# y_train contains the lables, ranging from 0 to 9\n",
        "label = y_train[i]\n",
        "# Print the label, for example 2 Pullover\n",
        "print (\"y = \" + str(label) + \" \" +(fashion_mnist_labels[label]))\n",
        "# # Show one of the images from the training dataset\n",
        "plt.imshow(x_train[i])"
      ],
      "metadata": {
        "colab": {
          "base_uri": "https://localhost:8080/",
          "height": 301
        },
        "id": "nF2fOkvqJwYp",
        "outputId": "5e49659c-57ae-42fd-9884-9d955c493327"
      },
      "execution_count": 5,
      "outputs": [
        {
          "output_type": "stream",
          "name": "stdout",
          "text": [
            "y = 2 Pullover\n"
          ]
        },
        {
          "output_type": "execute_result",
          "data": {
            "text/plain": [
              "<matplotlib.image.AxesImage at 0x7f64bc9e5b90>"
            ]
          },
          "metadata": {},
          "execution_count": 5
        },
        {
          "output_type": "display_data",
          "data": {
            "image/png": "[encoded data removed]",
            "text/plain": [
              "<Figure size 432x288 with 1 Axes>"
            ]
          },
          "metadata": {
            "needs_background": "light"
          }
        }
      ]
    },
    {
      "cell_type": "markdown",
      "source": [
        "# **Data Normalization**\n",
        "Normalize the pixel integer values which are between 0 and 255 so that they are between 0 and 1"
      ],
      "metadata": {
        "id": "QxL4o83kKIWJ"
      }
    },
    {
      "cell_type": "code",
      "source": [
        "x_train = x_train.astype('float32')/255\n",
        "x_test = x_test.astype('float32')/255"
      ],
      "metadata": {
        "id": "yGnS5B-6KNrF"
      },
      "execution_count": 6,
      "outputs": []
    },
    {
      "cell_type": "code",
      "source": [
        "len(x_train)"
      ],
      "metadata": {
        "colab": {
          "base_uri": "https://localhost:8080/"
        },
        "id": "JyRBc1v3KtOo",
        "outputId": "8647df92-3fbc-4cf5-8189-ff8c3b66fcd3"
      },
      "execution_count": 8,
      "outputs": [
        {
          "output_type": "execute_result",
          "data": {
            "text/plain": [
              "60000"
            ]
          },
          "metadata": {},
          "execution_count": 8
        }
      ]
    },
    {
      "cell_type": "code",
      "source": [
        "len(x_test)"
      ],
      "metadata": {
        "colab": {
          "base_uri": "https://localhost:8080/"
        },
        "id": "W4jQqYMeKxsW",
        "outputId": "bdb5bd15-1716-4bd2-c080-a29d13f89de1"
      },
      "execution_count": 9,
      "outputs": [
        {
          "output_type": "execute_result",
          "data": {
            "text/plain": [
              "10000"
            ]
          },
          "metadata": {},
          "execution_count": 9
        }
      ]
    },
    {
      "cell_type": "markdown",
      "source": [
        "# **Splitting Data Into Training, Validation, and Testing Data**\n",
        "* Training Data: used for training the model\n",
        "* Validation Data: used for tuning the hyper-parameters and to evaluate the model\n",
        "* Test Data: used to test the model after it goes through training and initial vetting by the validation data"
      ],
      "metadata": {
        "id": "qFYA_hTjLCD_"
      }
    },
    {
      "cell_type": "code",
      "source": [
        "# Further break the training data such that 55 k examples are in training set and \n",
        "# remaining 5k are in validation set\n",
        "\n",
        "(x_train, x_valid) = x_train[5000:], x_train[:5000]\n",
        "(y_train, y_valid) = y_train[5000:], y_train[:5000]\n",
        "\n",
        "# Reshape the input data to add the channel dimension\n",
        "w, h = 28, 28\n",
        "x_train = x_train.reshape(x_train.shape[0], w, h, 1)\n",
        "x_valid = x_valid.reshape(x_valid.shape[0], w, h, 1)\n",
        "x_test = x_test.reshape(x_test.shape[0], w, h, 1)\n",
        "\n",
        "# One-hot encode the labels\n",
        "y_train = tf.keras.utils.to_categorical(y_train, 10)\n",
        "y_valid = tf.keras.utils.to_categorical(y_valid, 10)\n",
        "y_test = tf.keras.utils.to_categorical(y_test, 10)\n",
        "\n",
        "# Print the training set shape\n",
        "print(\"x_train shape: \",x_train.shape, \"y_train shape: \", y_train.shape)\n",
        "\n",
        "# Print the number of training , validation, and test datasets\n",
        "print(x_train.shape[0], 'training set')\n",
        "print(x_valid.shape[0], 'validation set')\n",
        "print(x_test.shape[0], 'test set')"
      ],
      "metadata": {
        "colab": {
          "base_uri": "https://localhost:8080/"
        },
        "id": "p0wJx-g2K51q",
        "outputId": "25ce57d5-ca68-4bb5-8535-ee6e42dcc67b"
      },
      "execution_count": 10,
      "outputs": [
        {
          "output_type": "stream",
          "name": "stdout",
          "text": [
            "x_train shape:  (55000, 28, 28, 1) y_train shape:  (55000, 10)\n",
            "55000 training set\n",
            "5000 validation set\n",
            "10000 test set\n"
          ]
        }
      ]
    },
    {
      "cell_type": "markdown",
      "source": [
        "# **Step1: Define the CNN Model** "
      ],
      "metadata": {
        "id": "CqM9Qtj-O_8s"
      }
    },
    {
      "cell_type": "code",
      "source": [
        "model = tf.keras.Sequential()\n",
        "\n",
        "# Must define the input shape in the first layer of the neural network\n",
        "model.add(tf.keras.layers.Conv2D(filters=64, kernel_size=2, padding=\"same\", activation=\"relu\", \n",
        "                                 input_shape=(28,28,1)))\n",
        "model.add(tf.keras.layers.MaxPooling2D(pool_size=2))\n",
        "model.add(tf.keras.layers.Dropout(0.3))\n",
        "\n",
        "\n",
        "model.add(tf.keras.layers.Conv2D(filters=32, kernel_size=2, padding=\"same\", activation=\"relu\"))\n",
        "model.add(tf.keras.layers.MaxPooling2D(pool_size=2))\n",
        "model.add(tf.keras.layers.Dropout(0.3))\n",
        "\n",
        "model.add(tf.keras.layers.Flatten())\n",
        "model.add(tf.keras.layers.Dense(256, activation='relu'))\n",
        "model.add(tf.keras.layers.Dropout(0.5))\n",
        "model.add(tf.keras.layers.Dense(10, activation=\"softmax\"))\n",
        "\n",
        "# Take a look at the model summary\n",
        "model.summary()"
      ],
      "metadata": {
        "colab": {
          "base_uri": "https://localhost:8080/"
        },
        "id": "FQaptnwlPNls",
        "outputId": "4d6ef4e2-d9e8-44c1-b14e-53c7d0185b08"
      },
      "execution_count": 11,
      "outputs": [
        {
          "output_type": "stream",
          "name": "stdout",
          "text": [
            "Model: \"sequential\"\n",
            "_________________________________________________________________\n",
            " Layer (type)                Output Shape              Param #   \n",
            "=================================================================\n",
            " conv2d (Conv2D)             (None, 28, 28, 64)        320       \n",
            "                                                                 \n",
            " max_pooling2d (MaxPooling2D  (None, 14, 14, 64)       0         \n",
            " )                                                               \n",
            "                                                                 \n",
            " dropout (Dropout)           (None, 14, 14, 64)        0         \n",
            "                                                                 \n",
            " conv2d_1 (Conv2D)           (None, 14, 14, 32)        8224      \n",
            "                                                                 \n",
            " max_pooling2d_1 (MaxPooling  (None, 7, 7, 32)         0         \n",
            " 2D)                                                             \n",
            "                                                                 \n",
            " dropout_1 (Dropout)         (None, 7, 7, 32)          0         \n",
            "                                                                 \n",
            " flatten (Flatten)           (None, 1568)              0         \n",
            "                                                                 \n",
            " dense (Dense)               (None, 256)               401664    \n",
            "                                                                 \n",
            " dropout_2 (Dropout)         (None, 256)               0         \n",
            "                                                                 \n",
            " dense_1 (Dense)             (None, 10)                2570      \n",
            "                                                                 \n",
            "=================================================================\n",
            "Total params: 412,778\n",
            "Trainable params: 412,778\n",
            "Non-trainable params: 0\n",
            "_________________________________________________________________\n"
          ]
        }
      ]
    },
    {
      "cell_type": "markdown",
      "source": [
        "# **Step2: Compile the CNN Model**"
      ],
      "metadata": {
        "id": "n3Fs09-OSKIR"
      }
    },
    {
      "cell_type": "code",
      "source": [
        "# We have to specify the Optimizer, the Loss Function and Evaluation Metric to be used\n",
        "model.compile(loss=\"categorical_crossentropy\", optimizer=\"adam\", metrics=[\"accuracy\"])  "
      ],
      "metadata": {
        "id": "YOM03deCSOs-"
      },
      "execution_count": 12,
      "outputs": []
    },
    {
      "cell_type": "markdown",
      "source": [
        "# **Step 3: Train the Model using Training set**"
      ],
      "metadata": {
        "id": "LpSXas6USrPY"
      }
    },
    {
      "cell_type": "code",
      "source": [
        "from keras.callbacks import ModelCheckpoint\n",
        "\n",
        "checkpointer = ModelCheckpoint(filepath='model.weights.best.hdf5', verbose=1, save_best_only=True)\n",
        "model.fit(x_train, y_train, batch_size=64, epochs=10, \n",
        "          validation_data=(x_valid,y_valid),\n",
        "          callbacks=[checkpointer])"
      ],
      "metadata": {
        "colab": {
          "base_uri": "https://localhost:8080/"
        },
        "id": "fTW7IpB7Sxhg",
        "outputId": "8b5549b2-555f-4c7b-9cc0-5d52f3ee6aa4"
      },
      "execution_count": 13,
      "outputs": [
        {
          "output_type": "stream",
          "name": "stdout",
          "text": [
            "Epoch 1/10\n",
            "859/860 [============================>.] - ETA: 0s - loss: 0.6079 - accuracy: 0.7758\n",
            "Epoch 00001: val_loss improved from inf to 0.37433, saving model to model.weights.best.hdf5\n",
            "860/860 [==============================] - 76s 87ms/step - loss: 0.6078 - accuracy: 0.7759 - val_loss: 0.3743 - val_accuracy: 0.8686\n",
            "Epoch 2/10\n",
            "859/860 [============================>.] - ETA: 0s - loss: 0.4191 - accuracy: 0.8471\n",
            "Epoch 00002: val_loss improved from 0.37433 to 0.32634, saving model to model.weights.best.hdf5\n",
            "860/860 [==============================] - 73s 85ms/step - loss: 0.4192 - accuracy: 0.8471 - val_loss: 0.3263 - val_accuracy: 0.8840\n",
            "Epoch 3/10\n",
            "859/860 [============================>.] - ETA: 0s - loss: 0.3731 - accuracy: 0.8633\n",
            "Epoch 00003: val_loss improved from 0.32634 to 0.29865, saving model to model.weights.best.hdf5\n",
            "860/860 [==============================] - 74s 86ms/step - loss: 0.3731 - accuracy: 0.8633 - val_loss: 0.2987 - val_accuracy: 0.8932\n",
            "Epoch 4/10\n",
            "859/860 [============================>.] - ETA: 0s - loss: 0.3468 - accuracy: 0.8738\n",
            "Epoch 00004: val_loss improved from 0.29865 to 0.27284, saving model to model.weights.best.hdf5\n",
            "860/860 [==============================] - 74s 86ms/step - loss: 0.3468 - accuracy: 0.8739 - val_loss: 0.2728 - val_accuracy: 0.9022\n",
            "Epoch 5/10\n",
            "859/860 [============================>.] - ETA: 0s - loss: 0.3217 - accuracy: 0.8821\n",
            "Epoch 00005: val_loss improved from 0.27284 to 0.27071, saving model to model.weights.best.hdf5\n",
            "860/860 [==============================] - 74s 86ms/step - loss: 0.3217 - accuracy: 0.8821 - val_loss: 0.2707 - val_accuracy: 0.9038\n",
            "Epoch 6/10\n",
            "859/860 [============================>.] - ETA: 0s - loss: 0.3093 - accuracy: 0.8860\n",
            "Epoch 00006: val_loss improved from 0.27071 to 0.25872, saving model to model.weights.best.hdf5\n",
            "860/860 [==============================] - 74s 86ms/step - loss: 0.3094 - accuracy: 0.8859 - val_loss: 0.2587 - val_accuracy: 0.9046\n",
            "Epoch 7/10\n",
            "859/860 [============================>.] - ETA: 0s - loss: 0.2966 - accuracy: 0.8914\n",
            "Epoch 00007: val_loss improved from 0.25872 to 0.24623, saving model to model.weights.best.hdf5\n",
            "860/860 [==============================] - 73s 85ms/step - loss: 0.2965 - accuracy: 0.8914 - val_loss: 0.2462 - val_accuracy: 0.9114\n",
            "Epoch 8/10\n",
            "859/860 [============================>.] - ETA: 0s - loss: 0.2842 - accuracy: 0.8961\n",
            "Epoch 00008: val_loss improved from 0.24623 to 0.23700, saving model to model.weights.best.hdf5\n",
            "860/860 [==============================] - 76s 88ms/step - loss: 0.2843 - accuracy: 0.8961 - val_loss: 0.2370 - val_accuracy: 0.9092\n",
            "Epoch 9/10\n",
            "859/860 [============================>.] - ETA: 0s - loss: 0.2763 - accuracy: 0.8990\n",
            "Epoch 00009: val_loss did not improve from 0.23700\n",
            "860/860 [==============================] - 80s 93ms/step - loss: 0.2763 - accuracy: 0.8989 - val_loss: 0.2391 - val_accuracy: 0.9126\n",
            "Epoch 10/10\n",
            "859/860 [============================>.] - ETA: 0s - loss: 0.2686 - accuracy: 0.9012\n",
            "Epoch 00010: val_loss improved from 0.23700 to 0.22846, saving model to model.weights.best.hdf5\n",
            "860/860 [==============================] - 79s 92ms/step - loss: 0.2686 - accuracy: 0.9012 - val_loss: 0.2285 - val_accuracy: 0.9162\n"
          ]
        },
        {
          "output_type": "execute_result",
          "data": {
            "text/plain": [
              "<keras.callbacks.History at 0x7f64b3bb31d0>"
            ]
          },
          "metadata": {},
          "execution_count": 13
        }
      ]
    },
    {
      "cell_type": "markdown",
      "source": [
        "# **Step 3.1 : - Load the Model with Best Validation Accuracy**"
      ],
      "metadata": {
        "id": "JFsAYb1jVuqY"
      }
    },
    {
      "cell_type": "code",
      "source": [
        "# Load the weights with the best validation accuracy\n",
        "model.load_weights('model.weights.best.hdf5')"
      ],
      "metadata": {
        "id": "HLWkmswcV4C0"
      },
      "execution_count": 14,
      "outputs": []
    },
    {
      "cell_type": "markdown",
      "source": [
        "# **Step 4 - Testing the Model on Test Dataset and Getting Test Accuracy**"
      ],
      "metadata": {
        "id": "KSAUNC-NWe2N"
      }
    },
    {
      "cell_type": "code",
      "source": [
        "# Evaluate the model on test dataset\n",
        "score = model.evaluate(x_test, y_test, verbose=0)\n",
        "\n",
        "# Print the test accuracy\n",
        "print('\\n', 'Test Accuracy: ', score[1])"
      ],
      "metadata": {
        "colab": {
          "base_uri": "https://localhost:8080/"
        },
        "id": "01CjDPRfVqWd",
        "outputId": "884b0a58-dbac-418e-c9d5-51505996def9"
      },
      "execution_count": 19,
      "outputs": [
        {
          "output_type": "stream",
          "name": "stdout",
          "text": [
            "\n",
            " Test Accuracy:  0.9110000133514404\n"
          ]
        }
      ]
    },
    {
      "cell_type": "markdown",
      "source": [
        "# **Step 5 - Use the Model to Predict on New Example and Visualize the Prediction**\n",
        "* First we get the predictions with the model from the test data. \n",
        "\n",
        "* Then we print out 10 images from the test data set, and set the titles with the prediction (and the groud truth label). \n",
        "\n",
        "* If the prediction matches the true label, the title will be green; otherwise it's displayed in red."
      ],
      "metadata": {
        "id": "5NxxhY1YXc3u"
      }
    },
    {
      "cell_type": "code",
      "source": [
        "y_predict = model.predict(x_test)\n",
        "\n",
        "# Plot a random sample of 15 test images, their predicted labels and ground truth\n",
        "figure = plt.figure(figsize=(20, 8))\n",
        "for i, index in enumerate(np.random.choice(x_test.shape[0], size=15, replace=False)):\n",
        "    ax = figure.add_subplot(3, 5, i + 1, xticks=[], yticks=[])\n",
        "    # Display each image\n",
        "    ax.imshow(np.squeeze(x_test[index]))\n",
        "    predict_index = np.argmax(y_predict[index])\n",
        "    true_index = np.argmax(y_test[index])\n",
        "    # Set the title for each image\n",
        "    ax.set_title(\"{} ({})\".format(fashion_mnist_labels[predict_index], \n",
        "                                  fashion_mnist_labels[true_index]),\n",
        "                                  color=(\"green\" if predict_index == true_index else \"red\"))\n"
      ],
      "metadata": {
        "colab": {
          "base_uri": "https://localhost:8080/",
          "height": 410
        },
        "id": "DM6ZUPb0XlZZ",
        "outputId": "f583cdf1-2b1f-4d18-b4da-aa72cf7343c7"
      },
      "execution_count": 20,
      "outputs": [
        {
          "output_type": "display_data",
          "data": {
            "image/png": "[encoded data removed]",
            "text/plain": [
              "<Figure size 1440x576 with 15 Axes>"
            ]
          },
          "metadata": {}
        }
      ]
    },
    {
      "cell_type": "markdown",
      "source": [
        "# **Congragulations!**\n",
        "You have successfully trained a CNN to classify fashion-MNIST with near 90% accuracy."
      ],
      "metadata": {
        "id": "eOzvlv4cYk1U"
      }
    }
  ]
}